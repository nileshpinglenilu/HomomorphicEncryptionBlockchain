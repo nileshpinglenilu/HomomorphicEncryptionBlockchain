{
 "cells": [
  {
   "cell_type": "code",
   "execution_count": 16,
   "id": "463a99b1",
   "metadata": {},
   "outputs": [],
   "source": [
    "from web3 import Web3\n",
    "import json\n",
    "\n",
    "from phe import paillier\n",
    "\n",
    "public_key, private_key = paillier.generate_paillier_keypair()"
   ]
  },
  {
   "cell_type": "code",
   "execution_count": 17,
   "id": "3beb5b19",
   "metadata": {},
   "outputs": [],
   "source": [
    "ganache_url = \"http://127.0.0.1:7545\""
   ]
  },
  {
   "cell_type": "code",
   "execution_count": 18,
   "id": "ef691ff4",
   "metadata": {},
   "outputs": [],
   "source": [
    "web3 = Web3(Web3.HTTPProvider(ganache_url))"
   ]
  },
  {
   "cell_type": "code",
   "execution_count": 4,
   "id": "db104e90",
   "metadata": {},
   "outputs": [],
   "source": [
    "web3.eth.default_account  = web3.eth.accounts[0]"
   ]
  },
  {
   "cell_type": "code",
   "execution_count": 5,
   "id": "cb81fe99",
   "metadata": {},
   "outputs": [],
   "source": [
    "abi = json.loads('[{\"inputs\":[],\"stateMutability\":\"nonpayable\",\"type\":\"constructor\"},{\"inputs\":[],\"name\":\"account_bal\",\"outputs\":[{\"internalType\":\"uint256\",\"name\":\"\",\"type\":\"uint256\"}],\"stateMutability\":\"view\",\"type\":\"function\"},{\"inputs\":[],\"name\":\"account_number\",\"outputs\":[{\"internalType\":\"string\",\"name\":\"\",\"type\":\"string\"}],\"stateMutability\":\"view\",\"type\":\"function\"},{\"inputs\":[],\"name\":\"carid\",\"outputs\":[{\"internalType\":\"string\",\"name\":\"\",\"type\":\"string\"}],\"stateMutability\":\"view\",\"type\":\"function\"},{\"inputs\":[],\"name\":\"greet\",\"outputs\":[{\"internalType\":\"uint256\",\"name\":\"\",\"type\":\"uint256\"}],\"stateMutability\":\"view\",\"type\":\"function\"},{\"inputs\":[],\"name\":\"mob_number\",\"outputs\":[{\"internalType\":\"string\",\"name\":\"\",\"type\":\"string\"}],\"stateMutability\":\"view\",\"type\":\"function\"},{\"inputs\":[],\"name\":\"name\",\"outputs\":[{\"internalType\":\"string\",\"name\":\"\",\"type\":\"string\"}],\"stateMutability\":\"view\",\"type\":\"function\"},{\"inputs\":[],\"name\":\"paddress\",\"outputs\":[{\"internalType\":\"string\",\"name\":\"\",\"type\":\"string\"}],\"stateMutability\":\"view\",\"type\":\"function\"},{\"inputs\":[{\"internalType\":\"uint256\",\"name\":\"_account_bal\",\"type\":\"uint256\"}],\"name\":\"setGreeting\",\"outputs\":[],\"stateMutability\":\"nonpayable\",\"type\":\"function\"}]')\n",
    "bytecode = \"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\""
   ]
  },
  {
   "cell_type": "code",
   "execution_count": 6,
   "id": "517fc15a",
   "metadata": {},
   "outputs": [],
   "source": [
    "Greeter = web3.eth.contract(abi=abi, bytecode=bytecode)"
   ]
  },
  {
   "cell_type": "code",
   "execution_count": 7,
   "id": "b8f43775",
   "metadata": {},
   "outputs": [],
   "source": [
    "tx_hash = Greeter.constructor().transact()"
   ]
  },
  {
   "cell_type": "code",
   "execution_count": 8,
   "id": "a63320d1",
   "metadata": {},
   "outputs": [],
   "source": [
    "tx_receipt = web3.eth.wait_for_transaction_receipt(tx_hash)"
   ]
  },
  {
   "cell_type": "code",
   "execution_count": 9,
   "id": "e3c8957e",
   "metadata": {},
   "outputs": [],
   "source": [
    "contract = web3.eth.contract(\n",
    "    address=tx_receipt.contractAddress,\n",
    "    abi=abi\n",
    ")"
   ]
  },
  {
   "cell_type": "code",
   "execution_count": 10,
   "id": "3bb384be",
   "metadata": {},
   "outputs": [],
   "source": [
    "#set initial account balance\n",
    "#tx_hash = contract.functions.setGreeting(100).transact()"
   ]
  },
  {
   "cell_type": "code",
   "execution_count": 11,
   "id": "504f4626",
   "metadata": {},
   "outputs": [
    {
     "name": "stdout",
     "output_type": "stream",
     "text": [
      "10\n"
     ]
    }
   ],
   "source": [
    "bal = contract.functions.greet().call()\n",
    "print(bal)"
   ]
  },
  {
   "cell_type": "code",
   "execution_count": 12,
   "id": "f5e24aae",
   "metadata": {},
   "outputs": [],
   "source": [
    "en_bal = public_key.encrypt(bal)"
   ]
  },
  {
   "cell_type": "code",
   "execution_count": 13,
   "id": "449e0949",
   "metadata": {},
   "outputs": [
    {
     "name": "stdout",
     "output_type": "stream",
     "text": [
      "<phe.paillier.EncryptedNumber object at 0x000002E16329F630>\n"
     ]
    }
   ],
   "source": [
    "print(en_bal)"
   ]
  },
  {
   "cell_type": "code",
   "execution_count": 14,
   "id": "c2de04a1",
   "metadata": {},
   "outputs": [
    {
     "name": "stdout",
     "output_type": "stream",
     "text": [
      "<phe.paillier.EncryptedNumber object at 0x000002E165518748>\n"
     ]
    }
   ],
   "source": [
    "new_bal = en_bal - 5\n",
    "\n",
    "print(new_bal)"
   ]
  },
  {
   "cell_type": "code",
   "execution_count": 15,
   "id": "7c385b08",
   "metadata": {},
   "outputs": [],
   "source": [
    "new_bal = private_key.decrypt(new_bal)"
   ]
  },
  {
   "cell_type": "code",
   "execution_count": 26,
   "id": "aef4088d",
   "metadata": {},
   "outputs": [
    {
     "name": "stdout",
     "output_type": "stream",
     "text": [
      "5\n"
     ]
    }
   ],
   "source": [
    "print(new_bal)"
   ]
  },
  {
   "cell_type": "code",
   "execution_count": 27,
   "id": "0b961cca",
   "metadata": {},
   "outputs": [],
   "source": [
    "tx_hash = contract.functions.setGreeting(new_bal).transact()"
   ]
  },
  {
   "cell_type": "code",
   "execution_count": 28,
   "id": "2c8c4708",
   "metadata": {},
   "outputs": [],
   "source": [
    "tx_receipt = web3.eth.wait_for_transaction_receipt(tx_hash)"
   ]
  },
  {
   "cell_type": "code",
   "execution_count": 29,
   "id": "99aac13c",
   "metadata": {},
   "outputs": [
    {
     "name": "stdout",
     "output_type": "stream",
     "text": [
      "5\n"
     ]
    }
   ],
   "source": [
    "bal = contract.functions.greet().call()\n",
    "print(bal)"
   ]
  },
  {
   "cell_type": "code",
   "execution_count": null,
   "id": "53cd8b44",
   "metadata": {},
   "outputs": [],
   "source": []
  }
 ],
 "metadata": {
  "kernelspec": {
   "display_name": "Python 3",
   "language": "python",
   "name": "python3"
  },
  "language_info": {
   "codemirror_mode": {
    "name": "ipython",
    "version": 3
   },
   "file_extension": ".py",
   "mimetype": "text/x-python",
   "name": "python",
   "nbconvert_exporter": "python",
   "pygments_lexer": "ipython3",
   "version": "3.6.7"
  }
 },
 "nbformat": 4,
 "nbformat_minor": 5
}
