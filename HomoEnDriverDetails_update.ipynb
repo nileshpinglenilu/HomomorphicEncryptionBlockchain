{
 "cells": [
  {
   "cell_type": "code",
   "execution_count": 12,
   "id": "463a99b1",
   "metadata": {},
   "outputs": [],
   "source": [
    "from web3 import Web3\n",
    "import json\n",
    "\n",
    "from phe import paillier\n",
    "\n",
    "public_key, private_key = paillier.generate_paillier_keypair()"
   ]
  },
  {
   "cell_type": "code",
   "execution_count": 13,
   "id": "3beb5b19",
   "metadata": {},
   "outputs": [],
   "source": [
    "ganache_url = \"http://127.0.0.1:7545\""
   ]
  },
  {
   "cell_type": "code",
   "execution_count": 14,
   "id": "ef691ff4",
   "metadata": {},
   "outputs": [],
   "source": [
    "web3 = Web3(Web3.HTTPProvider(ganache_url))"
   ]
  },
  {
   "cell_type": "code",
   "execution_count": 15,
   "id": "db104e90",
   "metadata": {},
   "outputs": [],
   "source": [
    "web3.eth.default_account  = web3.eth.accounts[0]"
   ]
  },
  {
   "cell_type": "code",
   "execution_count": 16,
   "id": "cb81fe99",
   "metadata": {},
   "outputs": [],
   "source": [
    "abi = json.loads('[{\"inputs\":[],\"stateMutability\":\"nonpayable\",\"type\":\"constructor\"},{\"inputs\":[],\"name\":\"account_bal\",\"outputs\":[{\"internalType\":\"uint256\",\"name\":\"\",\"type\":\"uint256\"}],\"stateMutability\":\"view\",\"type\":\"function\"},{\"inputs\":[],\"name\":\"account_number\",\"outputs\":[{\"internalType\":\"string\",\"name\":\"\",\"type\":\"string\"}],\"stateMutability\":\"view\",\"type\":\"function\"},{\"inputs\":[],\"name\":\"carid\",\"outputs\":[{\"internalType\":\"string\",\"name\":\"\",\"type\":\"string\"}],\"stateMutability\":\"view\",\"type\":\"function\"},{\"inputs\":[],\"name\":\"getAccountBalance\",\"outputs\":[{\"internalType\":\"uint256\",\"name\":\"\",\"type\":\"uint256\"}],\"stateMutability\":\"view\",\"type\":\"function\"},{\"inputs\":[],\"name\":\"mob_number\",\"outputs\":[{\"internalType\":\"string\",\"name\":\"\",\"type\":\"string\"}],\"stateMutability\":\"view\",\"type\":\"function\"},{\"inputs\":[],\"name\":\"name\",\"outputs\":[{\"internalType\":\"string\",\"name\":\"\",\"type\":\"string\"}],\"stateMutability\":\"view\",\"type\":\"function\"},{\"inputs\":[],\"name\":\"paddress\",\"outputs\":[{\"internalType\":\"string\",\"name\":\"\",\"type\":\"string\"}],\"stateMutability\":\"view\",\"type\":\"function\"},{\"inputs\":[{\"internalType\":\"uint256\",\"name\":\"_account_bal\",\"type\":\"uint256\"}],\"name\":\"updateAccountBalance\",\"outputs\":[],\"stateMutability\":\"nonpayable\",\"type\":\"function\"}]')\n",
    "bytecode = \"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\""
   ]
  },
  {
   "cell_type": "code",
   "execution_count": 17,
   "id": "517fc15a",
   "metadata": {},
   "outputs": [],
   "source": [
    "Greeter = web3.eth.contract(abi=abi, bytecode=bytecode)"
   ]
  },
  {
   "cell_type": "code",
   "execution_count": 18,
   "id": "b8f43775",
   "metadata": {},
   "outputs": [],
   "source": [
    "tx_hash = Greeter.constructor().transact()"
   ]
  },
  {
   "cell_type": "code",
   "execution_count": 19,
   "id": "a63320d1",
   "metadata": {},
   "outputs": [],
   "source": [
    "tx_receipt = web3.eth.wait_for_transaction_receipt(tx_hash)"
   ]
  },
  {
   "cell_type": "code",
   "execution_count": 20,
   "id": "e3c8957e",
   "metadata": {},
   "outputs": [],
   "source": [
    "contract = web3.eth.contract(\n",
    "    address=tx_receipt.contractAddress,\n",
    "    abi=abi\n",
    ")"
   ]
  },
  {
   "cell_type": "code",
   "execution_count": 21,
   "id": "3bb384be",
   "metadata": {},
   "outputs": [],
   "source": [
    "#set initial account balance\n",
    "#tx_hash = contract.functions.setGreeting(100).transact()"
   ]
  },
  {
   "cell_type": "code",
   "execution_count": 22,
   "id": "504f4626",
   "metadata": {},
   "outputs": [
    {
     "name": "stdout",
     "output_type": "stream",
     "text": [
      "100\n"
     ]
    }
   ],
   "source": [
    "bal = contract.functions.getAccountBalance().call()\n",
    "print(bal)"
   ]
  },
  {
   "cell_type": "code",
   "execution_count": 23,
   "id": "f5e24aae",
   "metadata": {},
   "outputs": [],
   "source": [
    "en_bal = public_key.encrypt(bal)"
   ]
  },
  {
   "cell_type": "code",
   "execution_count": 24,
   "id": "449e0949",
   "metadata": {},
   "outputs": [
    {
     "name": "stdout",
     "output_type": "stream",
     "text": [
      "<phe.paillier.EncryptedNumber object at 0x000002807F589F60>\n"
     ]
    }
   ],
   "source": [
    "print(en_bal)"
   ]
  },
  {
   "cell_type": "code",
   "execution_count": 25,
   "id": "c2de04a1",
   "metadata": {},
   "outputs": [
    {
     "name": "stdout",
     "output_type": "stream",
     "text": [
      "<phe.paillier.EncryptedNumber object at 0x000002807F42A780>\n"
     ]
    }
   ],
   "source": [
    "new_bal = en_bal - 5\n",
    "\n",
    "print(new_bal)"
   ]
  },
  {
   "cell_type": "code",
   "execution_count": 26,
   "id": "7c385b08",
   "metadata": {},
   "outputs": [],
   "source": [
    "new_bal = private_key.decrypt(new_bal)"
   ]
  },
  {
   "cell_type": "code",
   "execution_count": 27,
   "id": "aef4088d",
   "metadata": {},
   "outputs": [
    {
     "name": "stdout",
     "output_type": "stream",
     "text": [
      "95\n"
     ]
    }
   ],
   "source": [
    "print(new_bal)"
   ]
  },
  {
   "cell_type": "code",
   "execution_count": 28,
   "id": "0b961cca",
   "metadata": {},
   "outputs": [],
   "source": [
    "tx_hash = contract.functions.updateAccountBalance(new_bal).transact()"
   ]
  },
  {
   "cell_type": "code",
   "execution_count": 29,
   "id": "2c8c4708",
   "metadata": {},
   "outputs": [],
   "source": [
    "tx_receipt = web3.eth.wait_for_transaction_receipt(tx_hash)"
   ]
  },
  {
   "cell_type": "code",
   "execution_count": 31,
   "id": "99aac13c",
   "metadata": {},
   "outputs": [
    {
     "ename": "ValidationError",
     "evalue": "\nCould not identify the intended function with name `updateAccountBalance`, positional argument(s) of type `()` and keyword argument(s) of type `{}`.\nFound 1 function(s) with the name `updateAccountBalance`: ['updateAccountBalance(uint256)']\nFunction invocation failed due to improper number of arguments.",
     "output_type": "error",
     "traceback": [
      "\u001b[1;31m---------------------------------------------------------------------------\u001b[0m",
      "\u001b[1;31mValidationError\u001b[0m                           Traceback (most recent call last)",
      "\u001b[1;32m<ipython-input-31-346a049605f5>\u001b[0m in \u001b[0;36m<module>\u001b[1;34m\u001b[0m\n\u001b[1;32m----> 1\u001b[1;33m \u001b[0mbal\u001b[0m \u001b[1;33m=\u001b[0m \u001b[0mcontract\u001b[0m\u001b[1;33m.\u001b[0m\u001b[0mfunctions\u001b[0m\u001b[1;33m.\u001b[0m\u001b[0mupdateAccountBalance\u001b[0m\u001b[1;33m(\u001b[0m\u001b[1;33m)\u001b[0m\u001b[1;33m.\u001b[0m\u001b[0mcall\u001b[0m\u001b[1;33m(\u001b[0m\u001b[1;33m)\u001b[0m\u001b[1;33m\u001b[0m\u001b[1;33m\u001b[0m\u001b[0m\n\u001b[0m\u001b[0;32m      2\u001b[0m \u001b[0mprint\u001b[0m\u001b[1;33m(\u001b[0m\u001b[0mbal\u001b[0m\u001b[1;33m)\u001b[0m\u001b[1;33m\u001b[0m\u001b[1;33m\u001b[0m\u001b[0m\n",
      "\u001b[1;32m~\\AppData\\Local\\Programs\\Python\\Python36\\lib\\site-packages\\web3\\contract.py\u001b[0m in \u001b[0;36m__call__\u001b[1;34m(self, *args, **kwargs)\u001b[0m\n\u001b[0;32m    889\u001b[0m         \u001b[1;32melse\u001b[0m\u001b[1;33m:\u001b[0m\u001b[1;33m\u001b[0m\u001b[1;33m\u001b[0m\u001b[0m\n\u001b[0;32m    890\u001b[0m             \u001b[0mclone\u001b[0m\u001b[1;33m.\u001b[0m\u001b[0mkwargs\u001b[0m \u001b[1;33m=\u001b[0m \u001b[0mkwargs\u001b[0m\u001b[1;33m\u001b[0m\u001b[1;33m\u001b[0m\u001b[0m\n\u001b[1;32m--> 891\u001b[1;33m         \u001b[0mclone\u001b[0m\u001b[1;33m.\u001b[0m\u001b[0m_set_function_info\u001b[0m\u001b[1;33m(\u001b[0m\u001b[1;33m)\u001b[0m\u001b[1;33m\u001b[0m\u001b[1;33m\u001b[0m\u001b[0m\n\u001b[0m\u001b[0;32m    892\u001b[0m         \u001b[1;32mreturn\u001b[0m \u001b[0mclone\u001b[0m\u001b[1;33m\u001b[0m\u001b[1;33m\u001b[0m\u001b[0m\n\u001b[0;32m    893\u001b[0m \u001b[1;33m\u001b[0m\u001b[0m\n",
      "\u001b[1;32m~\\AppData\\Local\\Programs\\Python\\Python36\\lib\\site-packages\\web3\\contract.py\u001b[0m in \u001b[0;36m_set_function_info\u001b[1;34m(self)\u001b[0m\n\u001b[0;32m    899\u001b[0m                 \u001b[0mself\u001b[0m\u001b[1;33m.\u001b[0m\u001b[0mfunction_identifier\u001b[0m\u001b[1;33m,\u001b[0m\u001b[1;33m\u001b[0m\u001b[1;33m\u001b[0m\u001b[0m\n\u001b[0;32m    900\u001b[0m                 \u001b[0mself\u001b[0m\u001b[1;33m.\u001b[0m\u001b[0margs\u001b[0m\u001b[1;33m,\u001b[0m\u001b[1;33m\u001b[0m\u001b[1;33m\u001b[0m\u001b[0m\n\u001b[1;32m--> 901\u001b[1;33m                 \u001b[0mself\u001b[0m\u001b[1;33m.\u001b[0m\u001b[0mkwargs\u001b[0m\u001b[1;33m\u001b[0m\u001b[1;33m\u001b[0m\u001b[0m\n\u001b[0m\u001b[0;32m    902\u001b[0m             )\n\u001b[0;32m    903\u001b[0m         \u001b[1;32mif\u001b[0m \u001b[0mself\u001b[0m\u001b[1;33m.\u001b[0m\u001b[0mfunction_identifier\u001b[0m \u001b[1;32min\u001b[0m \u001b[1;33m[\u001b[0m\u001b[0mFallbackFn\u001b[0m\u001b[1;33m,\u001b[0m \u001b[0mReceiveFn\u001b[0m\u001b[1;33m]\u001b[0m\u001b[1;33m:\u001b[0m\u001b[1;33m\u001b[0m\u001b[1;33m\u001b[0m\u001b[0m\n",
      "\u001b[1;32m~\\AppData\\Local\\Programs\\Python\\Python36\\lib\\site-packages\\web3\\_utils\\contracts.py\u001b[0m in \u001b[0;36mfind_matching_fn_abi\u001b[1;34m(abi, abi_codec, fn_identifier, args, kwargs)\u001b[0m\n\u001b[0;32m    164\u001b[0m         )\n\u001b[0;32m    165\u001b[0m \u001b[1;33m\u001b[0m\u001b[0m\n\u001b[1;32m--> 166\u001b[1;33m         \u001b[1;32mraise\u001b[0m \u001b[0mValidationError\u001b[0m\u001b[1;33m(\u001b[0m\u001b[0mmessage\u001b[0m\u001b[1;33m)\u001b[0m\u001b[1;33m\u001b[0m\u001b[1;33m\u001b[0m\u001b[0m\n\u001b[0m\u001b[0;32m    167\u001b[0m \u001b[1;33m\u001b[0m\u001b[0m\n\u001b[0;32m    168\u001b[0m \u001b[1;33m\u001b[0m\u001b[0m\n",
      "\u001b[1;31mValidationError\u001b[0m: \nCould not identify the intended function with name `updateAccountBalance`, positional argument(s) of type `()` and keyword argument(s) of type `{}`.\nFound 1 function(s) with the name `updateAccountBalance`: ['updateAccountBalance(uint256)']\nFunction invocation failed due to improper number of arguments."
     ]
    }
   ],
   "source": [
    "bal = contract.functions.updateAccountBalance().call()\n",
    "print(bal)"
   ]
  },
  {
   "cell_type": "code",
   "execution_count": null,
   "id": "53cd8b44",
   "metadata": {},
   "outputs": [],
   "source": []
  }
 ],
 "metadata": {
  "kernelspec": {
   "display_name": "Python 3",
   "language": "python",
   "name": "python3"
  },
  "language_info": {
   "codemirror_mode": {
    "name": "ipython",
    "version": 3
   },
   "file_extension": ".py",
   "mimetype": "text/x-python",
   "name": "python",
   "nbconvert_exporter": "python",
   "pygments_lexer": "ipython3",
   "version": "3.6.7"
  }
 },
 "nbformat": 4,
 "nbformat_minor": 5
}
